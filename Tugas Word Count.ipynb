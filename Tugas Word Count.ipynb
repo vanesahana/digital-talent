{
 "cells": [
  {
   "cell_type": "code",
   "execution_count": 6,
   "metadata": {},
   "outputs": [
    {
     "name": "stdout",
     "output_type": "stream",
     "text": [
      "Barcelona berhasil merebut posisi puncak klasemen La Liga Spanyol seusai menang 4-2 atas Sevilla pada pertandingan pekan kesembilan di Stadion Camp Nou, Sabtu (20/10/2018) atau Minggu dini hari WIB. Barcelona membuka keunggulan pada menit ke-2 melalui gol yang dicetak oleh Philippe Coutinho. Lionel Messi menggandakan keunggulan Barcelona, 10 menit berselang.  Namun, nahas bagi Barcelona, karena Messi harus ditarik keluar pada menit ke-26 setelah mengalami cedera. Tanpa Messi, skor 2-0 bertahan hingga babak pertama berakhir.\n",
      "Huruf di paragraf dikecilkan=\n",
      "barcelona berhasil merebut posisi puncak klasemen la liga spanyol seusai menang 4-2 atas sevilla pada pertandingan pekan kesembilan di stadion camp nou, sabtu (20/10/2018) atau minggu dini hari wib. barcelona membuka keunggulan pada menit ke-2 melalui gol yang dicetak oleh philippe coutinho. lionel messi menggandakan keunggulan barcelona, 10 menit berselang.  namun, nahas bagi barcelona, karena messi harus ditarik keluar pada menit ke-26 setelah mengalami cedera. tanpa messi, skor 2-0 bertahan hingga babak pertama berakhir.\n",
      "String\n",
      "barcelona berhasil merebut posisi puncak klasemen la liga spanyol seusai menang 4-2 atas sevilla pada pertandingan pekan kesembilan di stadion camp nou sabtu (20/10/2018) atau minggu dini hari wib barcelona membuka keunggulan pada menit ke-2 melalui gol yang dicetak oleh philippe coutinho lionel messi menggandakan keunggulan barcelona 10 menit berselang  namun nahas bagi barcelona karena messi harus ditarik keluar pada menit ke-26 setelah mengalami cedera tanpa messi skor 2-0 bertahan hingga babak pertama berakhir\n",
      "\n",
      "List\n",
      "['Barcelona', 'berhasil', 'merebut', 'posisi', 'puncak', 'klasemen', 'La', 'Liga', 'Spanyol', 'seusai', 'menang', '4-2', 'atas', 'Sevilla', 'pada', 'pertandingan', 'pekan', 'kesembilan', 'di', 'Stadion', 'Camp', 'Nou', 'Sabtu', '(20/10/2018)', 'atau', 'Minggu', 'dini', 'hari', 'WIB', 'Barcelona', 'membuka', 'keunggulan', 'pada', 'menit', 'ke-2', 'melalui', 'gol', 'yang', 'dicetak', 'oleh', 'Philippe', 'Coutinho', 'Lionel', 'Messi', 'menggandakan', 'keunggulan', 'Barcelona', '10', 'menit', 'berselang', 'Namun', 'nahas', 'bagi', 'Barcelona', 'karena', 'Messi', 'harus', 'ditarik', 'keluar', 'pada', 'menit', 'ke-26', 'setelah', 'mengalami', 'cedera', 'Tanpa', 'Messi', 'skor', '2-0', 'bertahan', 'hingga', 'babak', 'pertama', 'berakhir']\n",
      "\n",
      "Frequencies\n",
      "[4, 1, 1, 1, 1, 1, 1, 1, 1, 1, 1, 1, 1, 1, 3, 1, 1, 1, 1, 1, 1, 1, 1, 1, 1, 1, 1, 1, 1, 4, 1, 2, 3, 3, 1, 1, 1, 1, 1, 1, 1, 1, 1, 3, 1, 2, 4, 1, 3, 1, 1, 1, 1, 4, 1, 3, 1, 1, 1, 3, 3, 1, 1, 1, 1, 1, 3, 1, 1, 1, 1, 1, 1, 1]\n",
      "\n"
     ]
    }
   ],
   "source": [
    "paragraf= \"Barcelona berhasil merebut posisi puncak klasemen La Liga Spanyol seusai menang 4-2 atas Sevilla pada pertandingan pekan kesembilan di Stadion Camp Nou, Sabtu (20/10/2018) atau Minggu dini hari WIB. Barcelona membuka keunggulan pada menit ke-2 melalui gol yang dicetak oleh Philippe Coutinho. Lionel Messi menggandakan keunggulan Barcelona, 10 menit berselang.  Namun, nahas bagi Barcelona, karena Messi harus ditarik keluar pada menit ke-26 setelah mengalami cedera. Tanpa Messi, skor 2-0 bertahan hingga babak pertama berakhir.\"\n",
    "print(paragraf)\n",
    "\n",
    "print(\"Huruf di paragraf dikecilkan=\")\n",
    "print(paragraf.lower())\n",
    "\n",
    "for b in(\".\",\",\"):\n",
    "    paragraf=paragraf.replace(b,'')\n",
    "wordlist=paragraf.split()\n",
    "wordfreq=[]\n",
    "for w in wordlist:\n",
    "    wordfreq.append(wordlist.count(w))\n",
    "print(\"String\\n\"+paragraf.lower()+\"\\n\")\n",
    "print(\"List\\n\"+str(wordlist)+\"\\n\")\n",
    "print(\"Frequencies\\n\"+str(wordfreq)+\"\\n\")"
   ]
  },
  {
   "cell_type": "code",
   "execution_count": 27,
   "metadata": {},
   "outputs": [
    {
     "name": "stdout",
     "output_type": "stream",
     "text": [
      "Barcelona ; 4\n",
      "berhasil ; 1\n",
      "merebut ; 1\n",
      "posisi ; 1\n",
      "puncak ; 1\n",
      "klasemen ; 1\n",
      "La ; 1\n",
      "Liga ; 1\n",
      "Spanyol ; 1\n",
      "seusai ; 1\n",
      "menang ; 1\n",
      "4-2 ; 1\n",
      "atas ; 1\n",
      "Sevilla ; 1\n",
      "pada ; 3\n",
      "pertandingan ; 1\n",
      "pekan ; 1\n",
      "kesembilan ; 1\n",
      "di ; 1\n",
      "Stadion ; 1\n",
      "Camp ; 1\n",
      "Nou ; 1\n",
      "Sabtu ; 1\n",
      "(20/10/2018) ; 1\n",
      "atau ; 1\n",
      "Minggu ; 1\n",
      "dini ; 1\n",
      "hari ; 1\n",
      "WIB ; 1\n",
      "membuka ; 1\n",
      "keunggulan ; 2\n",
      "menit ; 3\n",
      "ke-2 ; 1\n",
      "melalui ; 1\n",
      "gol ; 1\n",
      "yang ; 1\n",
      "dicetak ; 1\n",
      "oleh ; 1\n",
      "Philippe ; 1\n",
      "Coutinho ; 1\n",
      "Lionel ; 1\n",
      "Messi ; 3\n",
      "menggandakan ; 1\n",
      "10 ; 1\n",
      "berselang ; 1\n",
      "Namun ; 1\n",
      "nahas ; 1\n",
      "bagi ; 1\n",
      "karena ; 1\n",
      "harus ; 1\n",
      "ditarik ; 1\n",
      "keluar ; 1\n",
      "ke-26 ; 1\n",
      "setelah ; 1\n",
      "mengalami ; 1\n",
      "cedera ; 1\n",
      "Tanpa ; 1\n",
      "skor ; 1\n",
      "2-0 ; 1\n",
      "bertahan ; 1\n",
      "hingga ; 1\n",
      "babak ; 1\n",
      "pertama ; 1\n",
      "berakhir ; 1\n"
     ]
    }
   ],
   "source": [
    "#Proses Word Count perkata\n",
    "hitung={}\n",
    "for word in wordlist:\n",
    "    if word not in hitung:\n",
    "        hitung[word]=1\n",
    "    else:\n",
    "        hitung[word]+=1\n",
    "for k,v in hitung.items():\n",
    "    print(k,\";\",v)"
   ]
  },
  {
   "cell_type": "code",
   "execution_count": null,
   "metadata": {},
   "outputs": [],
   "source": []
  }
 ],
 "metadata": {
  "kernelspec": {
   "display_name": "Python 3",
   "language": "python",
   "name": "python3"
  },
  "language_info": {
   "codemirror_mode": {
    "name": "ipython",
    "version": 3
   },
   "file_extension": ".py",
   "mimetype": "text/x-python",
   "name": "python",
   "nbconvert_exporter": "python",
   "pygments_lexer": "ipython3",
   "version": "3.7.0"
  }
 },
 "nbformat": 4,
 "nbformat_minor": 2
}
