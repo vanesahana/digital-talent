{
 "cells": [
  {
   "cell_type": "code",
   "execution_count": 4,
   "metadata": {},
   "outputs": [],
   "source": [
    "import pandas as pd"
   ]
  },
  {
   "cell_type": "code",
   "execution_count": 5,
   "metadata": {},
   "outputs": [],
   "source": [
    "data_ekspor=pd.read_csv('nilai-ekspor-jkt.csv', delimiter = ',', encoding = \"ISO-8859-1\")"
   ]
  },
  {
   "cell_type": "markdown",
   "metadata": {},
   "source": [
    "# Menampilkan Data"
   ]
  },
  {
   "cell_type": "code",
   "execution_count": 6,
   "metadata": {},
   "outputs": [
    {
     "data": {
      "text/html": [
       "<div>\n",
       "<style scoped>\n",
       "    .dataframe tbody tr th:only-of-type {\n",
       "        vertical-align: middle;\n",
       "    }\n",
       "\n",
       "    .dataframe tbody tr th {\n",
       "        vertical-align: top;\n",
       "    }\n",
       "\n",
       "    .dataframe thead th {\n",
       "        text-align: right;\n",
       "    }\n",
       "</style>\n",
       "<table border=\"1\" class=\"dataframe\">\n",
       "  <thead>\n",
       "    <tr style=\"text-align: right;\">\n",
       "      <th></th>\n",
       "      <th>tahun</th>\n",
       "      <th>negara_tujuan</th>\n",
       "      <th>nilai</th>\n",
       "    </tr>\n",
       "  </thead>\n",
       "  <tbody>\n",
       "    <tr>\n",
       "      <th>0</th>\n",
       "      <td>2010</td>\n",
       "      <td>United States</td>\n",
       "      <td>1209957555</td>\n",
       "    </tr>\n",
       "    <tr>\n",
       "      <th>1</th>\n",
       "      <td>2010</td>\n",
       "      <td>Thailand</td>\n",
       "      <td>584083134</td>\n",
       "    </tr>\n",
       "    <tr>\n",
       "      <th>2</th>\n",
       "      <td>2010</td>\n",
       "      <td>Singapore</td>\n",
       "      <td>669747773</td>\n",
       "    </tr>\n",
       "    <tr>\n",
       "      <th>3</th>\n",
       "      <td>2010</td>\n",
       "      <td>Australia</td>\n",
       "      <td>535553282</td>\n",
       "    </tr>\n",
       "    <tr>\n",
       "      <th>4</th>\n",
       "      <td>2010</td>\n",
       "      <td>Malaysia</td>\n",
       "      <td>669777231</td>\n",
       "    </tr>\n",
       "    <tr>\n",
       "      <th>5</th>\n",
       "      <td>2010</td>\n",
       "      <td>China</td>\n",
       "      <td>285399712</td>\n",
       "    </tr>\n",
       "    <tr>\n",
       "      <th>6</th>\n",
       "      <td>2010</td>\n",
       "      <td>Philippines</td>\n",
       "      <td>450418113</td>\n",
       "    </tr>\n",
       "    <tr>\n",
       "      <th>7</th>\n",
       "      <td>2010</td>\n",
       "      <td>Saudi Arabia</td>\n",
       "      <td>323833246</td>\n",
       "    </tr>\n",
       "    <tr>\n",
       "      <th>8</th>\n",
       "      <td>2010</td>\n",
       "      <td>Japan</td>\n",
       "      <td>452350300</td>\n",
       "    </tr>\n",
       "    <tr>\n",
       "      <th>9</th>\n",
       "      <td>2010</td>\n",
       "      <td>Hongkong</td>\n",
       "      <td>609715945</td>\n",
       "    </tr>\n",
       "    <tr>\n",
       "      <th>10</th>\n",
       "      <td>2011</td>\n",
       "      <td>United States</td>\n",
       "      <td>1304567382</td>\n",
       "    </tr>\n",
       "    <tr>\n",
       "      <th>11</th>\n",
       "      <td>2011</td>\n",
       "      <td>Thailand</td>\n",
       "      <td>578638455</td>\n",
       "    </tr>\n",
       "    <tr>\n",
       "      <th>12</th>\n",
       "      <td>2011</td>\n",
       "      <td>Singapore</td>\n",
       "      <td>1267672894</td>\n",
       "    </tr>\n",
       "    <tr>\n",
       "      <th>13</th>\n",
       "      <td>2011</td>\n",
       "      <td>Australia</td>\n",
       "      <td>542475976</td>\n",
       "    </tr>\n",
       "    <tr>\n",
       "      <th>14</th>\n",
       "      <td>2011</td>\n",
       "      <td>Malaysia</td>\n",
       "      <td>742820621</td>\n",
       "    </tr>\n",
       "    <tr>\n",
       "      <th>15</th>\n",
       "      <td>2011</td>\n",
       "      <td>China</td>\n",
       "      <td>700044010</td>\n",
       "    </tr>\n",
       "    <tr>\n",
       "      <th>16</th>\n",
       "      <td>2011</td>\n",
       "      <td>Philippines</td>\n",
       "      <td>557923374</td>\n",
       "    </tr>\n",
       "    <tr>\n",
       "      <th>17</th>\n",
       "      <td>2011</td>\n",
       "      <td>Saudi Arabia</td>\n",
       "      <td>477074719</td>\n",
       "    </tr>\n",
       "    <tr>\n",
       "      <th>18</th>\n",
       "      <td>2011</td>\n",
       "      <td>Japan</td>\n",
       "      <td>628735097</td>\n",
       "    </tr>\n",
       "    <tr>\n",
       "      <th>19</th>\n",
       "      <td>2011</td>\n",
       "      <td>Hongkong</td>\n",
       "      <td>835113716</td>\n",
       "    </tr>\n",
       "    <tr>\n",
       "      <th>20</th>\n",
       "      <td>2012</td>\n",
       "      <td>United States</td>\n",
       "      <td>1169310519</td>\n",
       "    </tr>\n",
       "    <tr>\n",
       "      <th>21</th>\n",
       "      <td>2012</td>\n",
       "      <td>Thailand</td>\n",
       "      <td>1021183878</td>\n",
       "    </tr>\n",
       "    <tr>\n",
       "      <th>22</th>\n",
       "      <td>2012</td>\n",
       "      <td>Singapore</td>\n",
       "      <td>1022652174</td>\n",
       "    </tr>\n",
       "    <tr>\n",
       "      <th>23</th>\n",
       "      <td>2012</td>\n",
       "      <td>Australia</td>\n",
       "      <td>965730985</td>\n",
       "    </tr>\n",
       "    <tr>\n",
       "      <th>24</th>\n",
       "      <td>2012</td>\n",
       "      <td>Malaysia</td>\n",
       "      <td>765894681</td>\n",
       "    </tr>\n",
       "    <tr>\n",
       "      <th>25</th>\n",
       "      <td>2012</td>\n",
       "      <td>China</td>\n",
       "      <td>750115876</td>\n",
       "    </tr>\n",
       "    <tr>\n",
       "      <th>26</th>\n",
       "      <td>2012</td>\n",
       "      <td>Philippines</td>\n",
       "      <td>724283675</td>\n",
       "    </tr>\n",
       "    <tr>\n",
       "      <th>27</th>\n",
       "      <td>2012</td>\n",
       "      <td>Saudi Arabia</td>\n",
       "      <td>667323542</td>\n",
       "    </tr>\n",
       "    <tr>\n",
       "      <th>28</th>\n",
       "      <td>2012</td>\n",
       "      <td>Japan</td>\n",
       "      <td>641107890</td>\n",
       "    </tr>\n",
       "    <tr>\n",
       "      <th>29</th>\n",
       "      <td>2012</td>\n",
       "      <td>Hongkong</td>\n",
       "      <td>428713676</td>\n",
       "    </tr>\n",
       "  </tbody>\n",
       "</table>\n",
       "</div>"
      ],
      "text/plain": [
       "    tahun  negara_tujuan       nilai\n",
       "0    2010  United States  1209957555\n",
       "1    2010       Thailand   584083134\n",
       "2    2010      Singapore   669747773\n",
       "3    2010      Australia   535553282\n",
       "4    2010       Malaysia   669777231\n",
       "5    2010          China   285399712\n",
       "6    2010    Philippines   450418113\n",
       "7    2010   Saudi Arabia   323833246\n",
       "8    2010          Japan   452350300\n",
       "9    2010       Hongkong   609715945\n",
       "10   2011  United States  1304567382\n",
       "11   2011       Thailand   578638455\n",
       "12   2011      Singapore  1267672894\n",
       "13   2011      Australia   542475976\n",
       "14   2011       Malaysia   742820621\n",
       "15   2011          China   700044010\n",
       "16   2011    Philippines   557923374\n",
       "17   2011   Saudi Arabia   477074719\n",
       "18   2011          Japan   628735097\n",
       "19   2011       Hongkong   835113716\n",
       "20   2012  United States  1169310519\n",
       "21   2012       Thailand  1021183878\n",
       "22   2012      Singapore  1022652174\n",
       "23   2012      Australia   965730985\n",
       "24   2012       Malaysia   765894681\n",
       "25   2012          China   750115876\n",
       "26   2012    Philippines   724283675\n",
       "27   2012   Saudi Arabia   667323542\n",
       "28   2012          Japan   641107890\n",
       "29   2012       Hongkong   428713676"
      ]
     },
     "execution_count": 6,
     "metadata": {},
     "output_type": "execute_result"
    }
   ],
   "source": [
    "data_ekspor"
   ]
  },
  {
   "cell_type": "markdown",
   "metadata": {},
   "source": [
    " ## Deskripsi Data: \n",
    " Data diatas merupakan data Nilai Ekspor Provinsi DKI Jakarta ke beberapa negara di Asia, benua Australia. Terdapat 3 kolom yakni kolom tahun, negara tujuan dan nilai ekspor dan transaksi baris nilai ekspor sebanyak 30 baris dari Provinsi DKI Jakarta ke negara negara di benua tersebut. Data diambil sejak tahun 2010 hingga 2012"
   ]
  },
  {
   "cell_type": "code",
   "execution_count": 8,
   "metadata": {},
   "outputs": [
    {
     "data": {
      "text/plain": [
       "tahun            30\n",
       "negara_tujuan    30\n",
       "nilai            30\n",
       "dtype: int64"
      ]
     },
     "execution_count": 8,
     "metadata": {},
     "output_type": "execute_result"
    }
   ],
   "source": [
    "data_ekspor.count()"
   ]
  },
  {
   "cell_type": "code",
   "execution_count": 9,
   "metadata": {},
   "outputs": [
    {
     "name": "stdout",
     "output_type": "stream",
     "text": [
      "Nilai Sum/Total dari data nilai ekspor adalah=\n",
      "21582219431\n",
      "Nilai Minimum dari data nilai ekspor adalah=\n",
      "285399712\n",
      "Nilai Maksimum dari data nilai ekspor adalah=\n",
      "1304567382\n",
      "Nilai Mean dari data nilai ekspor adalah=\n",
      "719407314.3666667\n",
      "Nilai Median dari data nilai ekspor adalah=\n",
      "668535657.5\n"
     ]
    }
   ],
   "source": [
    "#Statistik Data\n",
    "data_ekspor.negara_tujuan.count()\n",
    "s= data_ekspor.nilai.sum()\n",
    "mi= data_ekspor.nilai.min()\n",
    "ma= data_ekspor.nilai.max()\n",
    "me = data_ekspor.nilai.mean()\n",
    "md = data_ekspor.nilai.median()\n",
    "print(\"Nilai Sum/Total dari data nilai ekspor adalah=\")\n",
    "print(s)\n",
    "print(\"Nilai Minimum dari data nilai ekspor adalah=\")\n",
    "print(mi)\n",
    "print(\"Nilai Maksimum dari data nilai ekspor adalah=\")\n",
    "print(ma)\n",
    "print(\"Nilai Mean dari data nilai ekspor adalah=\")\n",
    "print(me)\n",
    "print(\"Nilai Median dari data nilai ekspor adalah=\")\n",
    "print(md)\n"
   ]
  },
  {
   "cell_type": "code",
   "execution_count": 10,
   "metadata": {
    "scrolled": true
   },
   "outputs": [
    {
     "data": {
      "text/html": [
       "<div>\n",
       "<style scoped>\n",
       "    .dataframe tbody tr th:only-of-type {\n",
       "        vertical-align: middle;\n",
       "    }\n",
       "\n",
       "    .dataframe tbody tr th {\n",
       "        vertical-align: top;\n",
       "    }\n",
       "\n",
       "    .dataframe thead th {\n",
       "        text-align: right;\n",
       "    }\n",
       "</style>\n",
       "<table border=\"1\" class=\"dataframe\">\n",
       "  <thead>\n",
       "    <tr style=\"text-align: right;\">\n",
       "      <th></th>\n",
       "      <th>nilai</th>\n",
       "    </tr>\n",
       "    <tr>\n",
       "      <th>tahun</th>\n",
       "      <th></th>\n",
       "    </tr>\n",
       "  </thead>\n",
       "  <tbody>\n",
       "    <tr>\n",
       "      <th>2010</th>\n",
       "      <td>579083629.1</td>\n",
       "    </tr>\n",
       "    <tr>\n",
       "      <th>2011</th>\n",
       "      <td>763506624.4</td>\n",
       "    </tr>\n",
       "    <tr>\n",
       "      <th>2012</th>\n",
       "      <td>815631689.6</td>\n",
       "    </tr>\n",
       "  </tbody>\n",
       "</table>\n",
       "</div>"
      ],
      "text/plain": [
       "             nilai\n",
       "tahun             \n",
       "2010   579083629.1\n",
       "2011   763506624.4\n",
       "2012   815631689.6"
      ]
     },
     "execution_count": 10,
     "metadata": {},
     "output_type": "execute_result"
    }
   ],
   "source": [
    "data_ekspor.groupby('tahun').mean()"
   ]
  },
  {
   "cell_type": "code",
   "execution_count": 11,
   "metadata": {},
   "outputs": [
    {
     "data": {
      "text/html": [
       "<div>\n",
       "<style scoped>\n",
       "    .dataframe tbody tr th:only-of-type {\n",
       "        vertical-align: middle;\n",
       "    }\n",
       "\n",
       "    .dataframe tbody tr th {\n",
       "        vertical-align: top;\n",
       "    }\n",
       "\n",
       "    .dataframe thead th {\n",
       "        text-align: right;\n",
       "    }\n",
       "</style>\n",
       "<table border=\"1\" class=\"dataframe\">\n",
       "  <thead>\n",
       "    <tr style=\"text-align: right;\">\n",
       "      <th></th>\n",
       "      <th>tahun</th>\n",
       "      <th>nilai</th>\n",
       "    </tr>\n",
       "    <tr>\n",
       "      <th>negara_tujuan</th>\n",
       "      <th></th>\n",
       "      <th></th>\n",
       "    </tr>\n",
       "  </thead>\n",
       "  <tbody>\n",
       "    <tr>\n",
       "      <th>Australia</th>\n",
       "      <td>2011.0</td>\n",
       "      <td>6.812534e+08</td>\n",
       "    </tr>\n",
       "    <tr>\n",
       "      <th>China</th>\n",
       "      <td>2011.0</td>\n",
       "      <td>5.785199e+08</td>\n",
       "    </tr>\n",
       "    <tr>\n",
       "      <th>Hongkong</th>\n",
       "      <td>2011.0</td>\n",
       "      <td>6.245144e+08</td>\n",
       "    </tr>\n",
       "    <tr>\n",
       "      <th>Japan</th>\n",
       "      <td>2011.0</td>\n",
       "      <td>5.740644e+08</td>\n",
       "    </tr>\n",
       "    <tr>\n",
       "      <th>Malaysia</th>\n",
       "      <td>2011.0</td>\n",
       "      <td>7.261642e+08</td>\n",
       "    </tr>\n",
       "    <tr>\n",
       "      <th>Philippines</th>\n",
       "      <td>2011.0</td>\n",
       "      <td>5.775417e+08</td>\n",
       "    </tr>\n",
       "    <tr>\n",
       "      <th>Saudi Arabia</th>\n",
       "      <td>2011.0</td>\n",
       "      <td>4.894105e+08</td>\n",
       "    </tr>\n",
       "    <tr>\n",
       "      <th>Singapore</th>\n",
       "      <td>2011.0</td>\n",
       "      <td>9.866909e+08</td>\n",
       "    </tr>\n",
       "    <tr>\n",
       "      <th>Thailand</th>\n",
       "      <td>2011.0</td>\n",
       "      <td>7.279685e+08</td>\n",
       "    </tr>\n",
       "    <tr>\n",
       "      <th>United States</th>\n",
       "      <td>2011.0</td>\n",
       "      <td>1.227945e+09</td>\n",
       "    </tr>\n",
       "  </tbody>\n",
       "</table>\n",
       "</div>"
      ],
      "text/plain": [
       "                tahun         nilai\n",
       "negara_tujuan                      \n",
       "Australia      2011.0  6.812534e+08\n",
       "China          2011.0  5.785199e+08\n",
       "Hongkong       2011.0  6.245144e+08\n",
       "Japan          2011.0  5.740644e+08\n",
       "Malaysia       2011.0  7.261642e+08\n",
       "Philippines    2011.0  5.775417e+08\n",
       "Saudi Arabia   2011.0  4.894105e+08\n",
       "Singapore      2011.0  9.866909e+08\n",
       "Thailand       2011.0  7.279685e+08\n",
       "United States  2011.0  1.227945e+09"
      ]
     },
     "execution_count": 11,
     "metadata": {},
     "output_type": "execute_result"
    }
   ],
   "source": [
    "data_ekspor.groupby('negara_tujuan').mean()"
   ]
  },
  {
   "cell_type": "markdown",
   "metadata": {},
   "source": [
    "# Visualisasi Sederhana"
   ]
  },
  {
   "cell_type": "code",
   "execution_count": 14,
   "metadata": {},
   "outputs": [
    {
     "data": {
      "text/plain": [
       "Text(0,0.5,'nilai')"
      ]
     },
     "execution_count": 14,
     "metadata": {},
     "output_type": "execute_result"
    },
    {
     "data": {
      "image/png": "[encoded data removed]",
      "text/plain": [
       "<Figure size 432x288 with 1 Axes>"
      ]
     },
     "metadata": {
      "needs_background": "light"
     },
     "output_type": "display_data"
    }
   ],
   "source": [
    "ax= data_ekspor.groupby('negara_tujuan').mean()['nilai']\n",
    "ax = ax.plot(kind='bar', title =\"Rata rata Nilai Ekspor Setiap Negara\", legend=True, fontsize=12)\n",
    "ax.set_xlabel(\"negara_tujuan\", fontsize=12)\n",
    "ax.set_ylabel(\"nilai\", fontsize=12)"
   ]
  },
  {
   "cell_type": "markdown",
   "metadata": {},
   "source": [
    "# Narasi Analisis\n",
    "Berdasarkan hasil visualisasi diatas dapat disimpulkan bahwa Singapore dan United States memiliki data nilai ekspor tertinggi (yakni sebesar 1Milyar Rupiah dan 1.2 Milyar Rupiah) untuk barang komoditas dari Jakarta. Sedangkan negara China, Jepang, Pilipphines dan Saudi Arabia merupakan negara yang memiliki nilai ekspor relatif rendah dibandingkan negara lain (berkisar antara 500 Juta hingga 600 Juta). Faktor ini disebabkan keempat negara tersebut merupakan 4 negara yang memiliki bisnis yang berkembang dan juga merupakan negara pengimpor barang barang komoditas terbesar di dunia dikarenakan banyaknya perusahaan yang selalu berkembang dan maju yang terletak di keempat negara tersebut. Sedangkan untuk negara Singapore dan USA, walaupun keduanya merupakan negara yang sangat maju, namun kemajuan dan perkembangan bisnis di kedua negara ini bisa dibilang lebih lamban dibandingkan keempat negara yang memiliki nilai ekspor relatif rendah. Oleh sebab itu kedua negara ini masih bergantung kepada negara lain terutama negara pengimpor (salah satunya Indonesia) untuk mendistribusikan barang ke Amerika dan Singapore "
   ]
  }
 ],
 "metadata": {
  "kernelspec": {
   "display_name": "Python 3",
   "language": "python",
   "name": "python3"
  },
  "language_info": {
   "codemirror_mode": {
    "name": "ipython",
    "version": 3
   },
   "file_extension": ".py",
   "mimetype": "text/x-python",
   "name": "python",
   "nbconvert_exporter": "python",
   "pygments_lexer": "ipython3",
   "version": "3.7.0"
  }
 },
 "nbformat": 4,
 "nbformat_minor": 2
}
