{
 "cells": [
  {
   "cell_type": "code",
   "execution_count": 73,
   "metadata": {},
   "outputs": [
    {
     "name": "stdout",
     "output_type": "stream",
     "text": [
      "1.58\n",
      "17.77777777777778\n",
      "Underweight\n"
     ]
    }
   ],
   "source": [
    "weight =40 #dalam kilogram\n",
    "H=158 #dalam cm\n",
    "h=(H/100)\n",
    "print(h)\n",
    "\n",
    "BMI=(weight/(height**2))\n",
    "print (BMI)\n",
    "if BMI < 15:\n",
    "    print (\"Very severely underweight\")\n",
    "if BMI > 15 and BMI < 16:\n",
    "    print (\"Severely Underweight\")\n",
    "if BMI > 16 and BMI < 18.5:\n",
    "    print(\"Underweight\")\n",
    "if BMI > 18.5 and BMI < 25:\n",
    "    print(\"Normal healthy weight\")\n",
    "if BMI > 25 and BMI < 30:\n",
    "    print(\"Overweight\")\n",
    "if BMI > 30 and BMI < 35:\n",
    "    print(\"Moderately Obese\")\n",
    "if BMI < 35 and BMI > 40:\n",
    "    print(\"Severely Obese\")\n",
    "if BMI > 40:\n",
    "    print(\"Very Severely Obese\")"
   ]
  },
  {
   "cell_type": "code",
   "execution_count": null,
   "metadata": {},
   "outputs": [],
   "source": []
  }
 ],
 "metadata": {
  "kernelspec": {
   "display_name": "Python 3",
   "language": "python",
   "name": "python3"
  },
  "language_info": {
   "codemirror_mode": {
    "name": "ipython",
    "version": 3
   },
   "file_extension": ".py",
   "mimetype": "text/x-python",
   "name": "python",
   "nbconvert_exporter": "python",
   "pygments_lexer": "ipython3",
   "version": "3.7.0"
  }
 },
 "nbformat": 4,
 "nbformat_minor": 2
}
